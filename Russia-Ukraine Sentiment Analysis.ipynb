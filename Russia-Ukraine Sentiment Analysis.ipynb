{
 "cells": [
  {
   "cell_type": "code",
   "execution_count": 1,
   "metadata": {},
   "outputs": [],
   "source": [
    "import pandas as pd\n",
    "import matplotlib.pyplot as plt\n",
    "import re\n",
    "import yaml\n",
    "import tweepy\n",
    "from textblob import TextBlob\n",
    "from azure.ai.textanalytics import TextAnalyticsClient\n",
    "from azure.core.credentials import AzureKeyCredential\n",
    "import seaborn as sns\n",
    "\n",
    "import os\n",
    "import itertools\n",
    "import collections\n",
    "import nltk\n",
    "from nltk.corpus import stopwords\n",
    "import networkx\n",
    "\n",
    "pd.set_option('display.max_columns', None)\n",
    "pd.set_option('display.max_rows', None)"
   ]
  },
  {
   "cell_type": "markdown",
   "metadata": {},
   "source": [
    "# Collecting tweets\n",
    "We use tweepy which is built on Twitter API to collect tweets."
   ]
  },
  {
   "cell_type": "code",
   "execution_count": 7,
   "metadata": {},
   "outputs": [],
   "source": [
    "with open(\"config.yaml\") as file:\n",
    "    keys = yaml.safe_load(file)\n",
    "    consumer_key = keys[\"search_tweets_api\"][\"consumer_key\"]\n",
    "    consumer_secret = keys[\"search_tweets_api\"][\"consumer_secret\"]\n",
    "    access_token = keys[\"search_tweets_api\"][\"access_token\"]\n",
    "    access_token_secret = keys[\"search_tweets_api\"][\"access_token_secret\"]"
   ]
  },
  {
   "cell_type": "code",
   "execution_count": 24,
   "metadata": {},
   "outputs": [],
   "source": [
    "def auth():\n",
    "    try:\n",
    "        auth = tweepy.OAuthHandler(consumer_key, consumer_secret)\n",
    "        auth.set_access_token(access_token, access_token_secret)\n",
    "        api = tweepy.API(auth, wait_on_rate_limit=True)\n",
    "    except:\n",
    "        print(\"An error occurred during the authentication\")\n",
    "    return api"
   ]
  },
  {
   "cell_type": "code",
   "execution_count": 21,
   "metadata": {},
   "outputs": [],
   "source": [
    "# function to remove URL\n",
    "def remove_url(txt):\n",
    "    return \" \".join(re.sub(\"([^0-9A-Za-z \\t])|(\\w+:\\/\\/\\S+)\", \"\", txt).split())"
   ]
  },
  {
   "cell_type": "markdown",
   "metadata": {},
   "source": [
    "We note that Twitter’s search service is not meant to be an exhaustive source of Tweets. Not all Tweets will be indexed or made available via the search interface. Therefore, we focus on random sampling on users' sentiment. "
   ]
  },
  {
   "cell_type": "code",
   "execution_count": 34,
   "metadata": {},
   "outputs": [],
   "source": [
    "def search_by_hashtag(api, date_until, words):\n",
    "    df = pd.DataFrame(columns=['id', 'created_at', 'username', 'location', 'following', \n",
    "                               'followers', 'retweetcount', 'text']) \n",
    "    tweets = tweepy.Cursor(api.search_tweets, q=words, lang=\"en\", until=date_until, tweet_mode='extended').items() \n",
    "    list_tweets = [tweet for tweet in tweets] \n",
    "         \n",
    "    for tweet in list_tweets: \n",
    "        id = tweet.id\n",
    "        created_at = tweet.created_at\n",
    "        username = tweet.user.screen_name \n",
    "        location = tweet.user.location \n",
    "        following = tweet.user.friends_count \n",
    "        followers = tweet.user.followers_count \n",
    "        totaltweets = tweet.user.statuses_count \n",
    "        retweetcount = tweet.retweet_count \n",
    "\n",
    "        try: \n",
    "            text = tweet.retweeted_status.full_text \n",
    "        except AttributeError: \n",
    "            text = tweet.full_text \n",
    "        text = remove_url(text)\n",
    "  \n",
    "        tweets = [id, created_at, username, location, following, \n",
    "                     followers, retweetcount, text] \n",
    "\n",
    "        df.loc[len(df)] = tweets \n",
    "          \n",
    "    filename = 'tweets.csv'\n",
    "    df.to_csv(filename)\n",
    "    return df"
   ]
  },
  {
   "cell_type": "code",
   "execution_count": 36,
   "metadata": {},
   "outputs": [
    {
     "name": "stderr",
     "output_type": "stream",
     "text": [
      "Rate limit reached. Sleeping for: 3\n",
      "Rate limit reached. Sleeping for: 851\n",
      "Rate limit reached. Sleeping for: 851\n",
      "Rate limit reached. Sleeping for: 850\n",
      "Rate limit reached. Sleeping for: 853\n"
     ]
    }
   ],
   "source": [
    "api = auth()\n",
    "words = \"#UkraineRussia\"\n",
    "date_until = \"2022-02-24\"\n",
    "search_by_hashtag(api, date_until, words)"
   ]
  },
  {
   "cell_type": "markdown",
   "metadata": {},
   "source": [
    "# Sentiment Analysis\n",
    "## Microsoft Azure’s Text Analytics\n",
    "We adopt Cognitive Service to obtain the sentiment score of tweets. The API can ouput confidence scores of the text being postive, neutral and negative respectively. For consistency and easier understanding, we will map the scores into a composite score in range [-1. 1]."
   ]
  },
  {
   "cell_type": "code",
   "execution_count": 42,
   "metadata": {},
   "outputs": [],
   "source": [
    "# Authenticate the client using your key and endpoint \n",
    "def authenticate_client():\n",
    "    with open(\"config.yaml\") as file:\n",
    "        keys = yaml.safe_load(file)\n",
    "        key = keys[\"azure\"][\"subscription_key\"]\n",
    "        endpoint = keys[\"azure\"][\"endpoint\"]\n",
    "    ta_credential = AzureKeyCredential(key)\n",
    "    text_analytics_client = TextAnalyticsClient(endpoint=endpoint, credential=ta_credential)\n",
    "    return text_analytics_client"
   ]
  },
  {
   "cell_type": "code",
   "execution_count": 65,
   "metadata": {},
   "outputs": [],
   "source": [
    "# Function for detecting sentiment in text\n",
    "def sentiment_analysis_example(client):\n",
    "\n",
    "    documents = list(df[\"text\"])\n",
    "    polarity = []\n",
    "    azure_class = []\n",
    "    # For loop is used to bypass the batch request limit\n",
    "    for document in documents:\n",
    "        response = client.analyze_sentiment(documents=[document])[0]\n",
    "        azure_class.append(response.sentiment)\n",
    "        polarity.append(0 + response.confidence_scores.positive - response.confidence_scores.negative)\n",
    "    df[\"azure_polar\"] = polarity\n",
    "    df[\"azure_class\"] = azure_class\n",
    "\n",
    "client = authenticate_client()      \n",
    "sentiment_analysis_example(client)"
   ]
  },
  {
   "cell_type": "markdown",
   "metadata": {},
   "source": [
    "## TextBlob\n",
    "Textblob is an open-source python library for processing textual data. It can evaluate both polarity and subjectivity in text. The polarity score is a float within the range [-1.0, 1.0]. The subjectivity is a float within the range [0.0, 1.0] where 0.0 is very objective and 1.0 is very subjective."
   ]
  },
  {
   "cell_type": "code",
   "execution_count": 70,
   "metadata": {},
   "outputs": [],
   "source": [
    "sentiment_objects = [TextBlob(tweet) for tweet in list(df['text'])]\n",
    "blob_polar = [tweet.sentiment.polarity for tweet in sentiment_objects]\n",
    "blob_subj = [tweet.sentiment.subjectivity for tweet in sentiment_objects]\n",
    "df[\"blob_polar\"] = blob_polar\n",
    "df[\"blob_subj\"] = blob_subj"
   ]
  },
  {
   "cell_type": "markdown",
   "metadata": {},
   "source": [
    "# Analysis"
   ]
  },
  {
   "cell_type": "code",
   "execution_count": 73,
   "metadata": {},
   "outputs": [
    {
     "data": {
      "image/png": "[encoded data removed]",
      "text/plain": [
       "<Figure size 432x288 with 2 Axes>"
      ]
     },
     "metadata": {
      "needs_background": "light"
     },
     "output_type": "display_data"
    }
   ],
   "source": [
    "ax1 = plt.subplot(2, 1, 1)\n",
    "df.hist(column=\"blob_polar\", bins=[-1, -0.75, -0.5, -0.25, 0.25, 0.5, 0.75, 1], ax=ax1)\n",
    "ax1.set_title(\"Sentiments from Tweets on Ukraine-Russia War\")\n",
    "\n",
    "ax2 = plt.subplot(2, 1, 2)\n",
    "df.hist(column=\"blob_subj\", bins=[0, 0.125, 0.25, 0.375, 0.5, 0.625, 0.75, 0.875, 1], ax=ax2)\n",
    "ax2.set_title(\"Subjectivity from Tweets on Ukraine-Russia War\")\n",
    "plt.show()"
   ]
  },
  {
   "cell_type": "code",
   "execution_count": 76,
   "metadata": {},
   "outputs": [
    {
     "data": {
      "image/png": "[encoded data removed]",
      "text/plain": [
       "<Figure size 432x288 with 2 Axes>"
      ]
     },
     "metadata": {
      "needs_background": "light"
     },
     "output_type": "display_data"
    }
   ],
   "source": [
    "ax1 = plt.subplot(2, 1, 1)\n",
    "df.hist(column=\"azure_polar\", bins=[-1, -0.75, -0.5, -0.25, 0.25, 0.5, 0.75, 1], ax=ax1)\n",
    "ax1.set_title(\"Sentiments from Tweets on Ukraine-Russia War\")\n",
    "ax2 = plt.subplot(2, 1, 2)\n",
    "df['azure_class'].value_counts().plot(kind='bar', ax=ax2)\n",
    "ax2.set_title(\"Sentiment Class of Tweets on Ukraine-Russia War\")\n",
    "plt.show()"
   ]
  },
  {
   "cell_type": "code",
   "execution_count": null,
   "metadata": {},
   "outputs": [],
   "source": []
  }
 ],
 "metadata": {
  "interpreter": {
   "hash": "e4486cc46800a3a36dbbddfd8b12a33d5293b2126d0bd638d95bed74d24a9d28"
  },
  "kernelspec": {
   "display_name": "Python 3.8.3 ('base')",
   "language": "python",
   "name": "python3"
  },
  "language_info": {
   "codemirror_mode": {
    "name": "ipython",
    "version": 3
   },
   "file_extension": ".py",
   "mimetype": "text/x-python",
   "name": "python",
   "nbconvert_exporter": "python",
   "pygments_lexer": "ipython3",
   "version": "3.8.3"
  },
  "orig_nbformat": 4
 },
 "nbformat": 4,
 "nbformat_minor": 2
}
